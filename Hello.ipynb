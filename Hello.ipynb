{
  "nbformat": 4,
  "nbformat_minor": 0,
  "metadata": {
    "colab": {
      "name": "Hello.ipynb",
      "provenance": [],
      "authorship_tag": "ABX9TyPdt0+x1l+KuCckDegH6KuA",
      "include_colab_link": true
    },
    "kernelspec": {
      "name": "python3",
      "display_name": "Python 3"
    },
    "language_info": {
      "name": "python"
    }
  },
  "cells": [
    {
      "cell_type": "markdown",
      "metadata": {
        "id": "view-in-github",
        "colab_type": "text"
      },
      "source": [
        "<a href=\"https://colab.research.google.com/github/tku-JustinM/Introduce-to-Computers/blob/main/Hello.ipynb\" target=\"_parent\"><img src=\"https://colab.research.google.com/assets/colab-badge.svg\" alt=\"Open In Colab\"/></a>"
      ]
    },
    {
      "cell_type": "code",
      "execution_count": 1,
      "metadata": {
        "colab": {
          "base_uri": "https://localhost:8080/"
        },
        "id": "Uqf2xXXCMn2J",
        "outputId": "53f45494-47c7-4102-e701-c0aaef1c626e"
      },
      "outputs": [
        {
          "output_type": "stream",
          "name": "stdout",
          "text": [
            "HiHi\n"
          ]
        }
      ],
      "source": [
        "print(\"HiHi\")"
      ]
    },
    {
      "cell_type": "code",
      "source": [
        ""
      ],
      "metadata": {
        "id": "x0tnDpDqMzHL"
      },
      "execution_count": null,
      "outputs": []
    }
  ]
}